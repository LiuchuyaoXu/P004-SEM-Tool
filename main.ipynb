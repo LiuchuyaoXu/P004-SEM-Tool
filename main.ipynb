{
 "cells": [
  {
   "cell_type": "code",
   "execution_count": null,
   "metadata": {},
   "outputs": [],
   "source": [
    "import numpy as np\n",
    "from PIL import Image\n",
    "from numba import vectorize\n",
    "\n",
    "im = Image.open('image.tif')\n",
    "imarray = np.array(im)\n",
    "imfft = np.fft.rfft2(imarray)\n",
    "print(\"The size of the image array is:\\n\", imarray.shape)\n",
    "print(\"The image array is:\\n\", imarray)\n",
    "print(\"The size of the image fft array is:\\n\", imfft.shape)\n",
    "print(\"The image fft array is:\\n\", imfft)\n",
    "\n",
    "@vectorize(['float32(float32, float32)'], target='cuda')\n",
    "def Add(a, b):\n",
    "  return a + b\n",
    "\n",
    "# Initialize arrays\n",
    "N = 100000\n",
    "A = np.ones(N, dtype=np.float32)\n",
    "B = np.ones(A.shape, dtype=A.dtype)\n",
    "C = np.empty_like(A, dtype=A.dtype)\n",
    "\n",
    "# Add arrays on GPU\n",
    "C = Add(A, B)\n"
   ]
  }
 ],
 "metadata": {
  "kernelspec": {
   "display_name": "Python 3",
   "language": "python",
   "name": "python3"
  },
  "language_info": {
   "codemirror_mode": {
    "name": "ipython",
    "version": 3
   },
   "file_extension": ".py",
   "mimetype": "text/x-python",
   "name": "python",
   "nbconvert_exporter": "python",
   "pygments_lexer": "ipython3",
   "version": "3.7.3"
  }
 },
 "nbformat": 4,
 "nbformat_minor": 2
}
